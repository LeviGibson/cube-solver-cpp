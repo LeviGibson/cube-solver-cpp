{
 "cells": [
  {
   "cell_type": "code",
   "execution_count": 1,
   "id": "450ef335-0227-4f2f-9977-543cb6c46467",
   "metadata": {},
   "outputs": [],
   "source": [
    "def alglen(alg):\n",
    "  x = alg.split(' ')\n",
    "  if x[-1] == '':x.pop()\n",
    "  return len(x)\n",
    "\n",
    "def doubles(alg):\n",
    "  count = 0\n",
    "  for chr in alg:\n",
    "    if chr == '2':\n",
    "      count+=1\n",
    "  return count\n",
    "\n",
    "def overworking(alg):\n",
    "  count = 0\n",
    "  alg = alg.split(' ')\n",
    "  for id, a in enumerate(alg):\n",
    "    if id - 2 < 0:\n",
    "      continue\n",
    "    if a == alg[id-2]:\n",
    "      if ('R' not in a) and a != 'U':\n",
    "        count+=1\n",
    "\n",
    "  return count"
   ]
  },
  {
   "cell_type": "code",
   "execution_count": 2,
   "id": "fe198aca-92de-4bb5-a753-d76a7011514c",
   "metadata": {},
   "outputs": [
    {
     "name": "stdout",
     "output_type": "stream",
     "text": [
      "14,1,1\n",
      "9,3,0\n",
      "9,3,0\n",
      "16,0,0\n",
      "18,1,1\n",
      "15,2,1\n",
      "15,2,1\n",
      "15,2,1\n",
      "15,2,1\n",
      "7,5,3\n",
      "10,2,0\n",
      "13,1,0\n",
      "21,2,0\n",
      "14,2,0\n",
      "15,1,1\n",
      "13,3,1\n",
      "11,1,1\n",
      "11,1,1\n",
      "15,1,1\n",
      "17,0,1\n",
      "9,5,2\n"
     ]
    }
   ],
   "source": [
    "algs = [\"R U R' U' R' F R2 U' R' U' R U R' F' \",\n",
    "\"R' U R' D2 R U' R' D2 R2\",\n",
    "\"R2 D2 R U R' D2 R U' R\",\n",
    "\"R U' R' D R U R' D' R U R' D R U' R' D'\",\n",
    "\"R' U' F' R U R' U' R' F R2 U' R' U' R U R' U R\",\n",
    "\"R2 U R' U R' U' R U' R2 D U' R' U R D' \",\n",
    "\"R' U' R U D' R2 U R' U R U' R U' R2 D\",\n",
    "\"R2 U' R U' R U R' U R2 D' U R U' R' D \",\n",
    "\"R U R' U' D R2 U' R U' R' U R' U R2 D' \",\n",
    "\"M2 U M2 U2 M2 U M2 \",\n",
    "\"R' U L' U2 R U' R' U2 R L \",\n",
    "\"R U R' F' R U R' U' R' F R2 U' R' \",\n",
    "\"R U R' U R U R' F' R U R' U' R' F R2 U' R' U2 R U' R' \",\n",
    "\"R' U L' U2 R U' L R' U L' U2 R U' L \",\n",
    "\"R U' R' U' R U R D R' U' R D' R' U2 R'\" ,\n",
    "\"R' U2 R U2 R' F R U R' U' R' F' R2 \",\n",
    "\"R U' R U R U R U' R' U' R2 \",\n",
    "\"R2 U R U R' U' R' U' R' U R' \",\n",
    "\"R' U R' U' y R' F' R2 U' R' U R' F R F \",\n",
    "\"F R U' R' U' R U R' F' R U R' U' R' F R F' \",\n",
    "\"M2 U M2 U M' U2 M2 U2 M'\" ]\n",
    "\n",
    "for a in algs:\n",
    "  print(alglen(a), end=',')\n",
    "  print(doubles(a), end=',')\n",
    "  print(overworking(a), end='')\n",
    "\n",
    "  print()"
   ]
  },
  {
   "cell_type": "code",
   "execution_count": null,
   "id": "a1057db1-3b75-4cd9-abd9-31617c991efc",
   "metadata": {},
   "outputs": [],
   "source": []
  }
 ],
 "metadata": {
  "kernelspec": {
   "display_name": "Python 3 (ipykernel)",
   "language": "python",
   "name": "python3"
  },
  "language_info": {
   "codemirror_mode": {
    "name": "ipython",
    "version": 3
   },
   "file_extension": ".py",
   "mimetype": "text/x-python",
   "name": "python",
   "nbconvert_exporter": "python",
   "pygments_lexer": "ipython3",
   "version": "3.10.4"
  }
 },
 "nbformat": 4,
 "nbformat_minor": 5
}
