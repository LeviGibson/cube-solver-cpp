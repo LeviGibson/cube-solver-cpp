{
 "cells": [
  {
   "cell_type": "code",
   "execution_count": 1,
   "id": "82b71112-55dd-4444-921e-6f7b665b18f2",
   "metadata": {},
   "outputs": [],
   "source": [
    "import pandas as pd\n",
    "import numpy as np\n",
    "from sklearn.linear_model import LinearRegression"
   ]
  },
  {
   "cell_type": "code",
   "execution_count": 15,
   "id": "2f4cc6c9",
   "metadata": {},
   "outputs": [],
   "source": [
    "df = pd.read_csv(\"data_with_labels.csv\")\n",
    "df.pop(\"ALGORITHM\")\n",
    "y = df.pop(\" LABEL\")\n",
    "\n",
    "# df.hist(figsize=(100, 75))"
   ]
  },
  {
   "cell_type": "code",
   "execution_count": 16,
   "id": "611f2690",
   "metadata": {},
   "outputs": [],
   "source": [
    "x = df.to_numpy()\n",
    "y = y.to_numpy()"
   ]
  },
  {
   "cell_type": "code",
   "execution_count": 17,
   "id": "a0fb8afb",
   "metadata": {},
   "outputs": [],
   "source": [
    "reg = LinearRegression().fit(x, y)\n",
    "# reg.score(x, y)"
   ]
  },
  {
   "cell_type": "code",
   "execution_count": 20,
   "id": "106a0abf",
   "metadata": {},
   "outputs": [
    {
     "name": "stdout",
     "output_type": "stream",
     "text": [
      "-0.5748731620054748\n",
      "0.20146460715325873,\n",
      "0.005506331753192928,\n",
      "0.17239001623994535,\n",
      "0.1948749986342372,\n",
      "0.3079285510499981,\n",
      "0.7440934459893918,\n",
      "0.17516069681819588,\n",
      "0.012744491569962624,\n",
      "0.16695460255450867,\n",
      "0.2068950715760491,\n",
      "0.30579826684108563,\n",
      "0.4061302265220062,\n",
      "0.25968604250765726,\n",
      "0.21176140376898114,\n",
      "0.292967864116052,\n",
      "0.3634353582230373,\n",
      "0.49478778195913947,\n",
      "0.4985501000101583,\n",
      "0.4654453458054431,\n",
      "0.33905149295282966,\n",
      "0.4424952203013478,\n",
      "-0.001799469901154871,\n",
      "0.23001222709213578,\n",
      "-0.06742041041822927,\n"
     ]
    }
   ],
   "source": [
    "print(reg.intercept_)\n",
    "\n",
    "for i in range(len(reg.coef_)):\n",
    "    # print(str(reg.coef_[i]) + ',')\n",
    "    print(df.columns[i], '\\t', reg.coef_[i])"
   ]
  }
 ],
 "metadata": {
  "interpreter": {
   "hash": "916dbcbb3f70747c44a77c7bcd40155683ae19c65e1c03b4aa3499c5328201f1"
  },
  "kernelspec": {
   "display_name": "Python 3.8.10 64-bit",
   "language": "python",
   "name": "python3"
  },
  "language_info": {
   "codemirror_mode": {
    "name": "ipython",
    "version": 3
   },
   "file_extension": ".py",
   "mimetype": "text/x-python",
   "name": "python",
   "nbconvert_exporter": "python",
   "pygments_lexer": "ipython3",
   "version": "3.8.10"
  }
 },
 "nbformat": 4,
 "nbformat_minor": 5
}
