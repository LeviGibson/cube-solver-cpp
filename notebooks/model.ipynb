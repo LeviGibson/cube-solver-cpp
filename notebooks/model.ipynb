{
 "cells": [
  {
   "cell_type": "code",
   "execution_count": 1,
   "id": "82b71112-55dd-4444-921e-6f7b665b18f2",
   "metadata": {},
   "outputs": [],
   "source": [
    "import pandas as pd"
   ]
  },
  {
   "cell_type": "code",
   "execution_count": null,
   "id": "edb329da-e83e-41d3-8969-476b2a78acd8",
   "metadata": {},
   "outputs": [],
   "source": [
    "df = pd.read_csv(\"data.csv\")\n",
    "df.pop(\"Alg\")\n",
    "df.hist(figsize=(20, 15))"
   ]
  },
  {
   "cell_type": "code",
   "execution_count": null,
   "id": "df75aa63-7d06-41bd-b408-4981cd0ba1e4",
   "metadata": {},
   "outputs": [],
   "source": [
    "from pandas.plotting import scatter_matrix\n",
    "attributes = [\"Time\", \"MoveCount\", \"Doubles\", \"Overworking\"]\n",
    "scatter_matrix(df[attributes], figsize=(12, 8))"
   ]
  },
  {
   "cell_type": "code",
   "execution_count": 16,
   "id": "2b88faf5-18a7-44a1-ad01-ed8324d8520c",
   "metadata": {},
   "outputs": [
    {
     "name": "stdout",
     "output_type": "stream",
     "text": [
      "[[ 97]\n",
      " [ 76]\n",
      " [ 71]\n",
      " [ 94]\n",
      " [121]\n",
      " [122]\n",
      " [130]\n",
      " [135]\n",
      " [117]\n",
      " [100]\n",
      " [109]\n",
      " [ 91]\n",
      " [150]\n",
      " [141]\n",
      " [115]\n",
      " [120]\n",
      " [ 90]\n",
      " [ 92]\n",
      " [130]\n",
      " [110]\n",
      " [112]]\n"
     ]
    },
    {
     "data": {
      "text/plain": [
       "array([[107.05927962],\n",
       "       [ 89.83153909],\n",
       "       [ 89.83153909],\n",
       "       [107.81339695],\n",
       "       [131.9621987 ],\n",
       "       [121.81775957],\n",
       "       [121.81775957],\n",
       "       [121.81775957],\n",
       "       [121.81775957],\n",
       "       [103.93935601],\n",
       "       [ 87.52451868],\n",
       "       [ 97.66895781],\n",
       "       [156.00754615],\n",
       "       [112.42743776],\n",
       "       [113.28500939],\n",
       "       [117.8990502 ],\n",
       "       [ 88.38209031],\n",
       "       [ 88.38209031],\n",
       "       [113.28500939],\n",
       "       [117.20371875],\n",
       "       [113.22622351]])"
      ]
     },
     "execution_count": 16,
     "metadata": {},
     "output_type": "execute_result"
    }
   ],
   "source": [
    "from sklearn.linear_model import LinearRegression\n",
    "import numpy as np\n",
    "y = df.pop(\"Time\").to_numpy().reshape((-1, 1))\n",
    "x = df.to_numpy()\n",
    "\n",
    "reg = LinearRegression().fit(x, y)\n",
    "reg.score(x, y)\n",
    "print(y)\n",
    "reg.predict(x)"
   ]
  }
 ],
 "metadata": {
  "interpreter": {
   "hash": "916dbcbb3f70747c44a77c7bcd40155683ae19c65e1c03b4aa3499c5328201f1"
  },
  "kernelspec": {
   "display_name": "Python 3.8.10 64-bit",
   "language": "python",
   "name": "python3"
  },
  "language_info": {
   "codemirror_mode": {
    "name": "ipython",
    "version": 3
   },
   "file_extension": ".py",
   "mimetype": "text/x-python",
   "name": "python",
   "nbconvert_exporter": "python",
   "pygments_lexer": "ipython3",
   "version": "3.8.10"
  }
 },
 "nbformat": 4,
 "nbformat_minor": 5
}
