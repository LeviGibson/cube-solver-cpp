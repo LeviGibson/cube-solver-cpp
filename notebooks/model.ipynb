{
 "cells": [
  {
   "cell_type": "code",
   "execution_count": 1,
   "id": "82b71112-55dd-4444-921e-6f7b665b18f2",
   "metadata": {},
   "outputs": [],
   "source": [
    "import pandas as pd\n",
    "import numpy as np\n",
    "from sklearn.linear_model import LinearRegression"
   ]
  },
  {
   "cell_type": "code",
   "execution_count": 15,
   "id": "2f4cc6c9",
   "metadata": {},
   "outputs": [],
   "source": [
    "df = pd.read_csv(\"data_with_labels.csv\")\n",
    "df.pop(\"ALGORITHM\")\n",
    "y = df.pop(\" LABEL\")\n",
    "\n",
    "# df.hist(figsize=(100, 75))"
   ]
  },
  {
   "cell_type": "code",
   "execution_count": 16,
   "id": "611f2690",
   "metadata": {},
   "outputs": [],
   "source": [
    "x = df.to_numpy()\n",
    "y = y.to_numpy()"
   ]
  },
  {
   "cell_type": "code",
   "execution_count": 17,
   "id": "a0fb8afb",
   "metadata": {},
   "outputs": [],
   "source": [
    "reg = LinearRegression().fit(x, y)\n",
    "# reg.score(x, y)"
   ]
  },
  {
   "cell_type": "code",
   "execution_count": 18,
   "id": "106a0abf",
   "metadata": {},
   "outputs": [
    {
     "name": "stdout",
     "output_type": "stream",
     "text": [
      "-0.5748731620054748\n",
      "\n",
      "\n",
      "\n",
      "\n",
      "\n",
      "\n",
      "\n",
      "\n",
      "\n",
      "\n",
      "\n",
      "\n",
      "\n",
      "\n",
      "\n",
      "\n",
      "\n",
      "\n",
      "\n",
      "\n",
      "\n",
      "\n",
      "\n",
      "\n"
     ]
    }
   ],
   "source": [
    "print(reg.intercept_)\n",
    "\n",
    "for i in range(len(reg.coef_)):\n",
    "    print(df.columns[i], '\\t', reg.coef_[i])"
   ]
  }
 ],
 "metadata": {
  "interpreter": {
   "hash": "916dbcbb3f70747c44a77c7bcd40155683ae19c65e1c03b4aa3499c5328201f1"
  },
  "kernelspec": {
   "display_name": "Python 3.8.10 64-bit",
   "language": "python",
   "name": "python3"
  },
  "language_info": {
   "codemirror_mode": {
    "name": "ipython",
    "version": 3
   },
   "file_extension": ".py",
   "mimetype": "text/x-python",
   "name": "python",
   "nbconvert_exporter": "python",
   "pygments_lexer": "ipython3",
   "version": "3.8.10"
  }
 },
 "nbformat": 4,
 "nbformat_minor": 5
}
